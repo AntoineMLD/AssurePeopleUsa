{
 "cells": [
  {
   "cell_type": "code",
   "execution_count": 27,
   "metadata": {},
   "outputs": [],
   "source": [
    "import pandas as pd\n",
    "import numpy as np\n",
    "import seaborn as sns\n",
    "from scipy import stats\n",
    "import matplotlib.pyplot as plt\n",
    "from sklearn.preprocessing import LabelEncoder"
   ]
  },
  {
   "cell_type": "code",
   "execution_count": 28,
   "metadata": {},
   "outputs": [
    {
     "data": {
      "text/plain": [
       "(   age  sex     bmi  children  smoker     region  is_northeast  is_northwest  \\\n",
       " 0   19    0  27.900         0       1  southwest         False         False   \n",
       " 1   18    1  33.770         1       0  southeast         False         False   \n",
       " 2   28    1  33.000         3       0  southeast         False         False   \n",
       " 3   33    1  22.705         0       0  northwest         False          True   \n",
       " 4   32    1  28.880         0       0  northwest         False          True   \n",
       " \n",
       "    is_southeast  is_southwest  underweight  normal weight  overweight  \\\n",
       " 0         False          True        False          False        True   \n",
       " 1          True         False        False          False       False   \n",
       " 2          True         False        False          False       False   \n",
       " 3         False         False        False           True       False   \n",
       " 4         False         False        False          False        True   \n",
       " \n",
       "    obesity class I  obesity class II  obesity class III  bmi_smoker  \n",
       " 0            False             False              False        27.9  \n",
       " 1             True             False              False         0.0  \n",
       " 2             True             False              False         0.0  \n",
       " 3            False             False              False         0.0  \n",
       " 4            False             False              False         0.0  ,\n",
       " 0    16884.92400\n",
       " 1     1725.55230\n",
       " 2     4449.46200\n",
       " 3    21984.47061\n",
       " 4     3866.85520\n",
       " Name: charges, dtype: float64)"
      ]
     },
     "execution_count": 28,
     "metadata": {},
     "output_type": "execute_result"
    }
   ],
   "source": [
    "# Chemin d'accès au fichier de données\n",
    "file_path = 'data.csv'\n",
    "\n",
    "# Réimporter le fichier CSV original pour recommencer à partir de zéro\n",
    "data = pd.read_csv(file_path)\n",
    "\n",
    "# Vérification des données manquantes et des doublons dans le DataFrame\n",
    "missing_data = data.isnull().sum()  # Compte le nombre de valeurs manquantes par colonne\n",
    "duplicates = data.duplicated().sum()  # Compte le nombre de lignes dupliquées\n",
    "data = data.drop_duplicates()  # Supprime les lignes dupliquées\n",
    "\n",
    "# Initialiser l'encodeur de labels pour la conversion des données catégorielles\n",
    "label_encoder = LabelEncoder()\n",
    "\n",
    "# Convertir les colonnes 'sex' et 'smoker' en valeurs entières\n",
    "columns_to_encode = ['sex', 'smoker']\n",
    "for column in columns_to_encode:\n",
    "    data[column] = label_encoder.fit_transform(data[column])  # Encodage des colonnes\n",
    "\n",
    "# Créer des variables binaires avec des noms explicites pour la colonne 'region'\n",
    "region_dummies_named = pd.get_dummies(data['region'], prefix='is', prefix_sep='_')\n",
    "\n",
    "# Concaténer ces variables binaires avec le DataFrame original\n",
    "data_with_named_dummies = pd.concat([data, region_dummies_named], axis=1)\n",
    "\n",
    "\n",
    "# Préparation de l'ensemble des caractéristiques (X) et de la variable cible (y)\n",
    "X = data_with_named_dummies.drop('charges', axis=1)  # Ensemble des caractéristiques\n",
    "y = data_with_named_dummies['charges']  # Variable cible\n",
    "\n",
    "# Création d'une colonne binaire pour le statut de fumeur\n",
    "X['smoker_binary'] = (X['smoker'] == 1).astype(int)\n",
    "\n",
    "# Définition des intervalles pour les catégories de BMI\n",
    "bins = [0, 18.5, 24.9, 29.9, 34.9, 39.9, float('inf')]  # Limites des catégories\n",
    "labels = ['underweight', 'normal weight', 'overweight', 'obesity class I', 'obesity class II', 'obesity class III']\n",
    "\n",
    "# Utilisation de pd.cut pour créer de nouvelles colonnes basées sur les catégories de BMI\n",
    "X['BMI_category'] = pd.cut(X['bmi'], bins=bins, labels=labels, right=False)\n",
    "\n",
    "# Utilisation de pd.get_dummies pour obtenir des colonnes binaires pour chaque catégorie de BMI\n",
    "BMI_dummies = pd.get_dummies(X['BMI_category'])\n",
    "\n",
    "# Ajout de ces colonnes binaires au DataFrame X\n",
    "X = pd.concat([X, BMI_dummies], axis=1)\n",
    "\n",
    "# Création d'une nouvelle caractéristique combinant BMI et statut de fumeur\n",
    "X['bmi_smoker'] = X['bmi'] * X['smoker_binary']\n",
    "\n",
    "# Suppression des colonnes temporaires\n",
    "X = X.drop(['smoker_binary', 'BMI_category'], axis=1)\n",
    "\n",
    "# Enregistrement du DataFrame modifié dans un nouveau fichier CSV\n",
    "output_file_path = 'data.csv'\n",
    "data_with_named_dummies.to_csv(output_file_path, index=False)\n",
    "\n",
    "# Affichage des premières lignes des DataFrame finaux X et y\n",
    "X.head(), y.head()\n"
   ]
  }
 ],
 "metadata": {
  "kernelspec": {
   "display_name": "Python 3",
   "language": "python",
   "name": "python3"
  },
  "language_info": {
   "codemirror_mode": {
    "name": "ipython",
    "version": 3
   },
   "file_extension": ".py",
   "mimetype": "text/x-python",
   "name": "python",
   "nbconvert_exporter": "python",
   "pygments_lexer": "ipython3",
   "version": "3.10.12"
  }
 },
 "nbformat": 4,
 "nbformat_minor": 2
}
