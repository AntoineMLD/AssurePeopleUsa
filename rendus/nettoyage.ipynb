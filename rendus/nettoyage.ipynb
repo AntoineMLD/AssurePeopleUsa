{
 "cells": [
  {
   "cell_type": "code",
   "execution_count": 5,
   "metadata": {},
   "outputs": [],
   "source": [
    "import pandas as pd\n",
    "import numpy as np\n",
    "import seaborn as sns\n",
    "from scipy import stats\n",
    "import matplotlib.pyplot as plt"
   ]
  },
  {
   "cell_type": "code",
   "execution_count": 6,
   "metadata": {},
   "outputs": [],
   "source": [
    "file_path = 'data.csv'\n",
    "\n",
    "data = pd.read_csv(file_path)"
   ]
  },
  {
   "cell_type": "code",
   "execution_count": 7,
   "metadata": {},
   "outputs": [
    {
     "name": "stdout",
     "output_type": "stream",
     "text": [
      "   age     sex     bmi  children smoker     region      charges\n",
      "0   19  female  27.900         0    yes  southwest  16884.92400\n",
      "1   18    male  33.770         1     no  southeast   1725.55230\n",
      "2   28    male  33.000         3     no  southeast   4449.46200\n",
      "3   33    male  22.705         0     no  northwest  21984.47061\n",
      "4   32    male  28.880         0     no  northwest   3866.85520\n"
     ]
    }
   ],
   "source": [
    "# Vérification des informations manquantes et des doublons\n",
    "missing_data = data.isnull().sum()\n",
    "duplicates = data.duplicated().sum()\n",
    "data = data.drop_duplicates()\n",
    "\n",
    "\n",
    "X = data.drop('charges', axis=1)\n",
    "y = data['charges']\n",
    "\n",
    "\n",
    "# Afficher le DataFrame avec les nouvelles colonnes binaires\n",
    "print(data.head())"
   ]
  },
  {
   "cell_type": "code",
   "execution_count": 8,
   "metadata": {},
   "outputs": [
    {
     "name": "stdout",
     "output_type": "stream",
     "text": [
      "      age     sex     bmi  children smoker     region  underweight  \\\n",
      "0      19  female  27.900         0    yes  southwest        False   \n",
      "1      18    male  33.770         1     no  southeast        False   \n",
      "2      28    male  33.000         3     no  southeast        False   \n",
      "3      33    male  22.705         0     no  northwest        False   \n",
      "4      32    male  28.880         0     no  northwest        False   \n",
      "...   ...     ...     ...       ...    ...        ...          ...   \n",
      "1333   50    male  30.970         3     no  northwest        False   \n",
      "1334   18  female  31.920         0     no  northeast        False   \n",
      "1335   18  female  36.850         0     no  southeast        False   \n",
      "1336   21  female  25.800         0     no  southwest        False   \n",
      "1337   61  female  29.070         0    yes  northwest        False   \n",
      "\n",
      "      normal weight  overweight  obesity class I  obesity class II  \\\n",
      "0             False        True            False             False   \n",
      "1             False       False             True             False   \n",
      "2             False       False             True             False   \n",
      "3              True       False            False             False   \n",
      "4             False        True            False             False   \n",
      "...             ...         ...              ...               ...   \n",
      "1333          False       False             True             False   \n",
      "1334          False       False             True             False   \n",
      "1335          False       False            False              True   \n",
      "1336          False        True            False             False   \n",
      "1337          False        True            False             False   \n",
      "\n",
      "      obesity class III  bmi_smoker  \n",
      "0                 False       27.90  \n",
      "1                 False        0.00  \n",
      "2                 False        0.00  \n",
      "3                 False        0.00  \n",
      "4                 False        0.00  \n",
      "...                 ...         ...  \n",
      "1333              False        0.00  \n",
      "1334              False        0.00  \n",
      "1335              False        0.00  \n",
      "1336              False        0.00  \n",
      "1337              False       29.07  \n",
      "\n",
      "[1337 rows x 13 columns]\n"
     ]
    }
   ],
   "source": [
    "#Crée une colone de smoker en fonction du BMI\n",
    "X['smoker_binary'] = (X['smoker'] == 'yes').astype(int)\n",
    "\n",
    "\n",
    "#Création des intervalles pour les catégories BMI\n",
    "bins = [0, 18.5, 24.9, 29.9, 34.9, 39.9, float('inf')]  # Les limites des catégories\n",
    "\n",
    "#Étiquettes pour les catégories BMI\n",
    "labels = [\n",
    "    'underweight', 'normal weight', 'overweight',\n",
    "    'obesity class I', 'obesity class II', 'obesity class III'\n",
    "]\n",
    "\n",
    "#Utilisation de pd.cut pour créer de nouvelles colonnes basées sur les catégories BMI\n",
    "X['BMI_category'] = pd.cut(X['bmi'], bins=bins, labels=labels, right=False)\n",
    "\n",
    "#Utilisation de pd.get_dummies pour obtenir des colonnes binaires pour chaque catégorie\n",
    "BMI_dummies = pd.get_dummies(X['BMI_category'])\n",
    "\n",
    "#Ajout des colonnes binaires au DataFrame X\n",
    "X = pd.concat([X, BMI_dummies], axis=1)\n",
    "\n",
    "X['bmi_smoker'] = X['bmi'] * X['smoker_binary']\n",
    "X = X.drop('smoker_binary', axis=1)\n",
    "\n",
    "#Suppression de la colonne 'BMI_category' car elle n'est plus nécessaire\n",
    "X = X.drop('BMI_category', axis=1)\n",
    "\n",
    "#Affichage du DataFrame avec les nouvelles colonnes binaires pour les catégories BMI\n",
    "print(X)"
   ]
  }
 ],
 "metadata": {
  "kernelspec": {
   "display_name": "Python 3",
   "language": "python",
   "name": "python3"
  },
  "language_info": {
   "codemirror_mode": {
    "name": "ipython",
    "version": 3
   },
   "file_extension": ".py",
   "mimetype": "text/x-python",
   "name": "python",
   "nbconvert_exporter": "python",
   "pygments_lexer": "ipython3",
   "version": "3.10.12"
  }
 },
 "nbformat": 4,
 "nbformat_minor": 2
}
