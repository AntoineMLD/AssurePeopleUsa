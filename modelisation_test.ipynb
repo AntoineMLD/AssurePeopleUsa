{
 "cells": [
  {
   "cell_type": "code",
   "execution_count": 320,
   "metadata": {},
   "outputs": [
    {
     "name": "stdout",
     "output_type": "stream",
     "text": [
      "   age     sex     bmi  children smoker     region      charges\n",
      "0   19  female  27.900         0    yes  southwest  16884.92400\n",
      "1   18    male  33.770         1     no  southeast   1725.55230\n",
      "2   28    male  33.000         3     no  southeast   4449.46200\n",
      "3   33    male  22.705         0     no  northwest  21984.47061\n",
      "4   32    male  28.880         0     no  northwest   3866.85520\n"
     ]
    }
   ],
   "source": [
    "import pandas as pd\n",
    "import numpy as np\n",
    "import seaborn as sns\n",
    "from scipy import stats\n",
    "import matplotlib.pyplot as plt\n",
    "\n",
    "file_path = 'data.csv'\n",
    "\n",
    "data = pd.read_csv(file_path)\n",
    "\n",
    "# data[\"sex\"].replace(['male', 'female'], [0, 1], inplace=True)\n",
    "# data[\"smoker\"].replace(['no', 'yes'], [0, 1],  inplace=True)\n",
    "# data_model = data.drop(\"region\", axis=1)\n",
    "# print(data_model)\n",
    "\n",
    "# region_dummies = pd.get_dummies(data['region'], prefix='is', prefix_sep='_')\n",
    "\n",
    "\n",
    "# # Concaténer les colonnes binaires avec le DataFrame original\n",
    "# data = pd.concat([data, region_dummies], axis=1)\n",
    "# data = data.drop(['region'], axis=1)\n",
    "\n",
    "# Vérification des informations manquantes et des doublons\n",
    "missing_data = data.isnull().sum()\n",
    "duplicates = data.duplicated().sum()\n",
    "data = data.drop_duplicates()\n",
    "\n",
    "\n",
    "# Afficher le DataFrame avec les nouvelles colonnes binaires\n",
    "print(data.head())\n"
   ]
  },
  {
   "cell_type": "code",
   "execution_count": 321,
   "metadata": {},
   "outputs": [
    {
     "name": "stdout",
     "output_type": "stream",
     "text": [
      "Train set X (1136, 6)\n",
      "Train set Y (1136,)\n",
      "Test set X (201, 6)\n",
      "Test set Y (201,)\n"
     ]
    }
   ],
   "source": [
    "from sklearn.compose import ColumnTransformer\n",
    "from sklearn.pipeline import Pipeline\n",
    "from sklearn.preprocessing import OneHotEncoder, StandardScaler, PolynomialFeatures\n",
    "from sklearn.linear_model import LinearRegression, Lasso, ElasticNet\n",
    "from sklearn.model_selection import train_test_split\n",
    "from sklearn.metrics import mean_squared_error, r2_score\n",
    "\n",
    "\n",
    "data.dropna(axis=0, inplace=True)\n",
    "\n",
    "\n",
    "X = data.drop('charges', axis=1)\n",
    "y = data['charges']\n",
    "\n",
    "X_train, X_test, y_train, y_test = train_test_split(X, y, shuffle=True, train_size=0.85, random_state=42, stratify=X['smoker'])\n",
    "# 80% pour train et 20% de test\n",
    "\n",
    "print(\"Train set X\", X_train.shape)\n",
    "print(\"Train set Y\", y_train.shape)\n",
    "print(\"Test set X\", X_test.shape)\n",
    "print(\"Test set Y\", y_test.shape)"
   ]
  },
  {
   "cell_type": "code",
   "execution_count": 322,
   "metadata": {},
   "outputs": [
    {
     "data": {
      "text/html": [
       "<style>#sk-container-id-30 {color: black;}#sk-container-id-30 pre{padding: 0;}#sk-container-id-30 div.sk-toggleable {background-color: white;}#sk-container-id-30 label.sk-toggleable__label {cursor: pointer;display: block;width: 100%;margin-bottom: 0;padding: 0.3em;box-sizing: border-box;text-align: center;}#sk-container-id-30 label.sk-toggleable__label-arrow:before {content: \"▸\";float: left;margin-right: 0.25em;color: #696969;}#sk-container-id-30 label.sk-toggleable__label-arrow:hover:before {color: black;}#sk-container-id-30 div.sk-estimator:hover label.sk-toggleable__label-arrow:before {color: black;}#sk-container-id-30 div.sk-toggleable__content {max-height: 0;max-width: 0;overflow: hidden;text-align: left;background-color: #f0f8ff;}#sk-container-id-30 div.sk-toggleable__content pre {margin: 0.2em;color: black;border-radius: 0.25em;background-color: #f0f8ff;}#sk-container-id-30 input.sk-toggleable__control:checked~div.sk-toggleable__content {max-height: 200px;max-width: 100%;overflow: auto;}#sk-container-id-30 input.sk-toggleable__control:checked~label.sk-toggleable__label-arrow:before {content: \"▾\";}#sk-container-id-30 div.sk-estimator input.sk-toggleable__control:checked~label.sk-toggleable__label {background-color: #d4ebff;}#sk-container-id-30 div.sk-label input.sk-toggleable__control:checked~label.sk-toggleable__label {background-color: #d4ebff;}#sk-container-id-30 input.sk-hidden--visually {border: 0;clip: rect(1px 1px 1px 1px);clip: rect(1px, 1px, 1px, 1px);height: 1px;margin: -1px;overflow: hidden;padding: 0;position: absolute;width: 1px;}#sk-container-id-30 div.sk-estimator {font-family: monospace;background-color: #f0f8ff;border: 1px dotted black;border-radius: 0.25em;box-sizing: border-box;margin-bottom: 0.5em;}#sk-container-id-30 div.sk-estimator:hover {background-color: #d4ebff;}#sk-container-id-30 div.sk-parallel-item::after {content: \"\";width: 100%;border-bottom: 1px solid gray;flex-grow: 1;}#sk-container-id-30 div.sk-label:hover label.sk-toggleable__label {background-color: #d4ebff;}#sk-container-id-30 div.sk-serial::before {content: \"\";position: absolute;border-left: 1px solid gray;box-sizing: border-box;top: 0;bottom: 0;left: 50%;z-index: 0;}#sk-container-id-30 div.sk-serial {display: flex;flex-direction: column;align-items: center;background-color: white;padding-right: 0.2em;padding-left: 0.2em;position: relative;}#sk-container-id-30 div.sk-item {position: relative;z-index: 1;}#sk-container-id-30 div.sk-parallel {display: flex;align-items: stretch;justify-content: center;background-color: white;position: relative;}#sk-container-id-30 div.sk-item::before, #sk-container-id-30 div.sk-parallel-item::before {content: \"\";position: absolute;border-left: 1px solid gray;box-sizing: border-box;top: 0;bottom: 0;left: 50%;z-index: -1;}#sk-container-id-30 div.sk-parallel-item {display: flex;flex-direction: column;z-index: 1;position: relative;background-color: white;}#sk-container-id-30 div.sk-parallel-item:first-child::after {align-self: flex-end;width: 50%;}#sk-container-id-30 div.sk-parallel-item:last-child::after {align-self: flex-start;width: 50%;}#sk-container-id-30 div.sk-parallel-item:only-child::after {width: 0;}#sk-container-id-30 div.sk-dashed-wrapped {border: 1px dashed gray;margin: 0 0.4em 0.5em 0.4em;box-sizing: border-box;padding-bottom: 0.4em;background-color: white;}#sk-container-id-30 div.sk-label label {font-family: monospace;font-weight: bold;display: inline-block;line-height: 1.2em;}#sk-container-id-30 div.sk-label-container {text-align: center;}#sk-container-id-30 div.sk-container {/* jupyter's `normalize.less` sets `[hidden] { display: none; }` but bootstrap.min.css set `[hidden] { display: none !important; }` so we also need the `!important` here to be able to override the default hidden behavior on the sphinx rendered scikit-learn.org. See: https://github.com/scikit-learn/scikit-learn/issues/21755 */display: inline-block !important;position: relative;}#sk-container-id-30 div.sk-text-repr-fallback {display: none;}</style><div id=\"sk-container-id-30\" class=\"sk-top-container\"><div class=\"sk-text-repr-fallback\"><pre>Pipeline(steps=[(&#x27;prepocessor&#x27;,\n",
       "                 ColumnTransformer(transformers=[(&#x27;numerical&#x27;,\n",
       "                                                  Pipeline(steps=[(&#x27;scaler&#x27;,\n",
       "                                                                   StandardScaler())]),\n",
       "                                                  Index([&#x27;age&#x27;, &#x27;bmi&#x27;, &#x27;children&#x27;], dtype=&#x27;object&#x27;)),\n",
       "                                                 (&#x27;categorial&#x27;,\n",
       "                                                  Pipeline(steps=[(&#x27;encoder&#x27;,\n",
       "                                                                   OneHotEncoder()),\n",
       "                                                                  (&#x27;poly&#x27;,\n",
       "                                                                   PolynomialFeatures())]),\n",
       "                                                  Index([&#x27;sex&#x27;, &#x27;smoker&#x27;, &#x27;region&#x27;], dtype=&#x27;object&#x27;))])),\n",
       "                (&#x27;ElasticNet&#x27;, ElasticNet())])</pre><b>In a Jupyter environment, please rerun this cell to show the HTML representation or trust the notebook. <br />On GitHub, the HTML representation is unable to render, please try loading this page with nbviewer.org.</b></div><div class=\"sk-container\" hidden><div class=\"sk-item sk-dashed-wrapped\"><div class=\"sk-label-container\"><div class=\"sk-label sk-toggleable\"><input class=\"sk-toggleable__control sk-hidden--visually\" id=\"sk-estimator-id-216\" type=\"checkbox\" ><label for=\"sk-estimator-id-216\" class=\"sk-toggleable__label sk-toggleable__label-arrow\">Pipeline</label><div class=\"sk-toggleable__content\"><pre>Pipeline(steps=[(&#x27;prepocessor&#x27;,\n",
       "                 ColumnTransformer(transformers=[(&#x27;numerical&#x27;,\n",
       "                                                  Pipeline(steps=[(&#x27;scaler&#x27;,\n",
       "                                                                   StandardScaler())]),\n",
       "                                                  Index([&#x27;age&#x27;, &#x27;bmi&#x27;, &#x27;children&#x27;], dtype=&#x27;object&#x27;)),\n",
       "                                                 (&#x27;categorial&#x27;,\n",
       "                                                  Pipeline(steps=[(&#x27;encoder&#x27;,\n",
       "                                                                   OneHotEncoder()),\n",
       "                                                                  (&#x27;poly&#x27;,\n",
       "                                                                   PolynomialFeatures())]),\n",
       "                                                  Index([&#x27;sex&#x27;, &#x27;smoker&#x27;, &#x27;region&#x27;], dtype=&#x27;object&#x27;))])),\n",
       "                (&#x27;ElasticNet&#x27;, ElasticNet())])</pre></div></div></div><div class=\"sk-serial\"><div class=\"sk-item sk-dashed-wrapped\"><div class=\"sk-label-container\"><div class=\"sk-label sk-toggleable\"><input class=\"sk-toggleable__control sk-hidden--visually\" id=\"sk-estimator-id-217\" type=\"checkbox\" ><label for=\"sk-estimator-id-217\" class=\"sk-toggleable__label sk-toggleable__label-arrow\">prepocessor: ColumnTransformer</label><div class=\"sk-toggleable__content\"><pre>ColumnTransformer(transformers=[(&#x27;numerical&#x27;,\n",
       "                                 Pipeline(steps=[(&#x27;scaler&#x27;, StandardScaler())]),\n",
       "                                 Index([&#x27;age&#x27;, &#x27;bmi&#x27;, &#x27;children&#x27;], dtype=&#x27;object&#x27;)),\n",
       "                                (&#x27;categorial&#x27;,\n",
       "                                 Pipeline(steps=[(&#x27;encoder&#x27;, OneHotEncoder()),\n",
       "                                                 (&#x27;poly&#x27;,\n",
       "                                                  PolynomialFeatures())]),\n",
       "                                 Index([&#x27;sex&#x27;, &#x27;smoker&#x27;, &#x27;region&#x27;], dtype=&#x27;object&#x27;))])</pre></div></div></div><div class=\"sk-parallel\"><div class=\"sk-parallel-item\"><div class=\"sk-item\"><div class=\"sk-label-container\"><div class=\"sk-label sk-toggleable\"><input class=\"sk-toggleable__control sk-hidden--visually\" id=\"sk-estimator-id-218\" type=\"checkbox\" ><label for=\"sk-estimator-id-218\" class=\"sk-toggleable__label sk-toggleable__label-arrow\">numerical</label><div class=\"sk-toggleable__content\"><pre>Index([&#x27;age&#x27;, &#x27;bmi&#x27;, &#x27;children&#x27;], dtype=&#x27;object&#x27;)</pre></div></div></div><div class=\"sk-serial\"><div class=\"sk-item\"><div class=\"sk-serial\"><div class=\"sk-item\"><div class=\"sk-estimator sk-toggleable\"><input class=\"sk-toggleable__control sk-hidden--visually\" id=\"sk-estimator-id-219\" type=\"checkbox\" ><label for=\"sk-estimator-id-219\" class=\"sk-toggleable__label sk-toggleable__label-arrow\">StandardScaler</label><div class=\"sk-toggleable__content\"><pre>StandardScaler()</pre></div></div></div></div></div></div></div></div><div class=\"sk-parallel-item\"><div class=\"sk-item\"><div class=\"sk-label-container\"><div class=\"sk-label sk-toggleable\"><input class=\"sk-toggleable__control sk-hidden--visually\" id=\"sk-estimator-id-220\" type=\"checkbox\" ><label for=\"sk-estimator-id-220\" class=\"sk-toggleable__label sk-toggleable__label-arrow\">categorial</label><div class=\"sk-toggleable__content\"><pre>Index([&#x27;sex&#x27;, &#x27;smoker&#x27;, &#x27;region&#x27;], dtype=&#x27;object&#x27;)</pre></div></div></div><div class=\"sk-serial\"><div class=\"sk-item\"><div class=\"sk-serial\"><div class=\"sk-item\"><div class=\"sk-estimator sk-toggleable\"><input class=\"sk-toggleable__control sk-hidden--visually\" id=\"sk-estimator-id-221\" type=\"checkbox\" ><label for=\"sk-estimator-id-221\" class=\"sk-toggleable__label sk-toggleable__label-arrow\">OneHotEncoder</label><div class=\"sk-toggleable__content\"><pre>OneHotEncoder()</pre></div></div></div><div class=\"sk-item\"><div class=\"sk-estimator sk-toggleable\"><input class=\"sk-toggleable__control sk-hidden--visually\" id=\"sk-estimator-id-222\" type=\"checkbox\" ><label for=\"sk-estimator-id-222\" class=\"sk-toggleable__label sk-toggleable__label-arrow\">PolynomialFeatures</label><div class=\"sk-toggleable__content\"><pre>PolynomialFeatures()</pre></div></div></div></div></div></div></div></div></div></div><div class=\"sk-item\"><div class=\"sk-estimator sk-toggleable\"><input class=\"sk-toggleable__control sk-hidden--visually\" id=\"sk-estimator-id-223\" type=\"checkbox\" ><label for=\"sk-estimator-id-223\" class=\"sk-toggleable__label sk-toggleable__label-arrow\">ElasticNet</label><div class=\"sk-toggleable__content\"><pre>ElasticNet()</pre></div></div></div></div></div></div></div>"
      ],
      "text/plain": [
       "Pipeline(steps=[('prepocessor',\n",
       "                 ColumnTransformer(transformers=[('numerical',\n",
       "                                                  Pipeline(steps=[('scaler',\n",
       "                                                                   StandardScaler())]),\n",
       "                                                  Index(['age', 'bmi', 'children'], dtype='object')),\n",
       "                                                 ('categorial',\n",
       "                                                  Pipeline(steps=[('encoder',\n",
       "                                                                   OneHotEncoder()),\n",
       "                                                                  ('poly',\n",
       "                                                                   PolynomialFeatures())]),\n",
       "                                                  Index(['sex', 'smoker', 'region'], dtype='object'))])),\n",
       "                ('ElasticNet', ElasticNet())])"
      ]
     },
     "execution_count": 322,
     "metadata": {},
     "output_type": "execute_result"
    }
   ],
   "source": [
    "\n",
    "# Identifier les colonnes catégories et numériques\n",
    "numerical_cols = X.select_dtypes(include=['int64', 'float64']).columns\n",
    "categorical_cols = X.select_dtypes(include=['object']).columns\n",
    "\n",
    "\n",
    "# Créer le pipeline pour les features numériques\n",
    "numerical_pipeline = Pipeline([\n",
    "    ('scaler', StandardScaler())\n",
    "])\n",
    "\n",
    "\n",
    "# Créer le pipeline pour les features catégorielles\n",
    "categorial_pipeline = Pipeline([\n",
    "    ('encoder', OneHotEncoder()),\n",
    "    ('poly', PolynomialFeatures())  # Ajout de PolynomialFeatures\n",
    "])\n",
    "\n",
    "\n",
    "# Combine les pipelines en utilisant ColumnTransformer\n",
    "preprocessor = ColumnTransformer(\n",
    "    transformers=[\n",
    "        ('numerical', numerical_pipeline, numerical_cols),\n",
    "        ('categorial', categorial_pipeline, categorical_cols)\n",
    "    ])\n",
    "\n",
    "\n",
    "\n",
    "\n",
    "# Créer le pipeline final en ajoutant le model\n",
    "\n",
    "LR_pipeline = Pipeline(steps=[\n",
    "    ('preprocessor', preprocessor),\n",
    "    ('regression', LinearRegression())\n",
    "])\n",
    "\n",
    "Lasso_pipeline = Pipeline([\n",
    "    ('preprocessor', preprocessor),\n",
    "    ('Lasso', Lasso())\n",
    "])\n",
    "\n",
    "ElasticNet_pipeline = Pipeline([\n",
    "    ('prepocessor', preprocessor),\n",
    "    ('ElasticNet', ElasticNet())\n",
    "])\n",
    "\n",
    "\n",
    "# On entraine les donnnées\n",
    "LR_pipeline.fit(X_train, y_train)\n",
    "Lasso_pipeline.fit(X_train, y_train)\n",
    "ElasticNet_pipeline.fit(X_train, y_train)\n",
    "\n",
    "\n",
    "\n",
    "\n"
   ]
  },
  {
   "cell_type": "code",
   "execution_count": 323,
   "metadata": {},
   "outputs": [
    {
     "name": "stdout",
     "output_type": "stream",
     "text": [
      " score du ELASTICNET modèle : 0.7262705329928385\n",
      "mse : 39667721.588546716\n",
      "r2 : 0.7262705329928385\n",
      "rmse : 6298.23162392006\n"
     ]
    }
   ],
   "source": [
    "# On predicte\n",
    "y_pred_EN = ElasticNet_pipeline.predict(X_test)\n",
    "\n",
    "mse = mean_squared_error(y_test, y_pred_EN)\n",
    "r2 = r2_score(y_test, y_pred_EN)\n",
    "rmse = np.sqrt(mse)\n",
    "print(f\" score du ELASTICNET modèle : {ElasticNet_pipeline.score(X_test, y_test)}\")\n",
    "print(f\"mse : {mse}\")\n",
    "print(f\"r2 : {r2}\")\n",
    "print(f\"rmse : {rmse}\")"
   ]
  },
  {
   "cell_type": "code",
   "execution_count": 324,
   "metadata": {},
   "outputs": [
    {
     "name": "stdout",
     "output_type": "stream",
     "text": [
      " score du LR modèle : 0.8358638325215854\n",
      "mse : 23785922.15639862\n",
      "r2 : 0.8358638325215854\n",
      "rmse : 4877.081315335907\n"
     ]
    }
   ],
   "source": [
    "# On predicte\n",
    "y_pred_LR = LR_pipeline.predict(X_test)\n",
    "\n",
    "mse = mean_squared_error(y_test, y_pred_LR)\n",
    "r2 = r2_score(y_test, y_pred_LR)\n",
    "rmse = np.sqrt(mse)\n",
    "print(f\" score du LR modèle : {LR_pipeline.score(X_test, y_test)}\")\n",
    "print(f\"mse : {mse}\")\n",
    "print(f\"r2 : {r2}\")\n",
    "print(f\"rmse : {rmse}\")"
   ]
  },
  {
   "cell_type": "code",
   "execution_count": 325,
   "metadata": {},
   "outputs": [
    {
     "name": "stdout",
     "output_type": "stream",
     "text": [
      " score du Lasso modèle : 0.8358958737988972\n",
      "mse : 23781278.869427573\n",
      "r2 : 0.8358958737988972\n",
      "rmse : 4876.60526077594\n"
     ]
    }
   ],
   "source": [
    "# On predicte\n",
    "y_pred_Lasso = Lasso_pipeline.predict(X_test)\n",
    "\n",
    "mse = mean_squared_error(y_test, y_pred_Lasso)\n",
    "r2 = r2_score(y_test, y_pred_Lasso)\n",
    "rmse = np.sqrt(mse)\n",
    "print(f\" score du Lasso modèle : {Lasso_pipeline.score(X_test, y_test)}\")\n",
    "print(f\"mse : {mse}\")\n",
    "print(f\"r2 : {r2}\")\n",
    "print(f\"rmse : {rmse}\")"
   ]
  },
  {
   "cell_type": "code",
   "execution_count": 326,
   "metadata": {},
   "outputs": [
    {
     "data": {
      "text/plain": [
       "{'ElasticNet__alpha': 0.3, 'ElasticNet__l1_ratio': 0.9}"
      ]
     },
     "execution_count": 326,
     "metadata": {},
     "output_type": "execute_result"
    }
   ],
   "source": [
    "from sklearn.model_selection import GridSearchCV\n",
    "\n",
    "param_grid = { 'ElasticNet__alpha': [0.1, 0.3],\n",
    "               'ElasticNet__l1_ratio': [0.1, 0.9]\n",
    "              }\n",
    "\n",
    "grid = GridSearchCV(ElasticNet_pipeline, param_grid, cv= 10)\n",
    "\n",
    "grid.fit(X_train, y_train)\n",
    "grid.best_params_\n"
   ]
  },
  {
   "cell_type": "code",
   "execution_count": 327,
   "metadata": {},
   "outputs": [],
   "source": [
    "model = grid.best_estimator_"
   ]
  },
  {
   "cell_type": "code",
   "execution_count": 328,
   "metadata": {},
   "outputs": [
    {
     "data": {
      "text/plain": [
       "0.8342559216251663"
      ]
     },
     "execution_count": 328,
     "metadata": {},
     "output_type": "execute_result"
    }
   ],
   "source": [
    "model.score(X_test, y_test)"
   ]
  }
 ],
 "metadata": {
  "kernelspec": {
   "display_name": "Python 3",
   "language": "python",
   "name": "python3"
  },
  "language_info": {
   "codemirror_mode": {
    "name": "ipython",
    "version": 3
   },
   "file_extension": ".py",
   "mimetype": "text/x-python",
   "name": "python",
   "nbconvert_exporter": "python",
   "pygments_lexer": "ipython3",
   "version": "3.10.12"
  }
 },
 "nbformat": 4,
 "nbformat_minor": 2
}
