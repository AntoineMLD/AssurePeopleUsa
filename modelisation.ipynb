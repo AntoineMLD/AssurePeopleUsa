{
 "cells": [
  {
   "cell_type": "code",
   "execution_count": 2,
   "metadata": {},
   "outputs": [
    {
     "name": "stdout",
     "output_type": "stream",
     "text": [
      "   age  sex     bmi  children  smoker      charges  is_northeast  \\\n",
      "0   19    1  27.900         0       1  16884.92400         False   \n",
      "1   18    0  33.770         1       0   1725.55230         False   \n",
      "2   28    0  33.000         3       0   4449.46200         False   \n",
      "3   33    0  22.705         0       0  21984.47061         False   \n",
      "4   32    0  28.880         0       0   3866.85520         False   \n",
      "\n",
      "   is_northwest  is_southeast  is_southwest  \n",
      "0         False         False          True  \n",
      "1         False          True         False  \n",
      "2         False          True         False  \n",
      "3          True         False         False  \n",
      "4          True         False         False  \n"
     ]
    }
   ],
   "source": [
    "import pandas as pd\n",
    "import numpy as np\n",
    "import seaborn as sns\n",
    "from scipy import stats\n",
    "\n",
    "file_path = 'data.csv'\n",
    "\n",
    "data = pd.read_csv(file_path)\n",
    "\n",
    "data[\"sex\"].replace(['male', 'female'], [0, 1], inplace=True)\n",
    "data[\"smoker\"].replace(['no', 'yes'], [0, 1],  inplace=True)\n",
    "# data_model = data.drop(\"region\", axis=1)\n",
    "# print(data_model)\n",
    "\n",
    "region_dummies = pd.get_dummies(data['region'], prefix='is', prefix_sep='_')\n",
    "\n",
    "\n",
    "# Concaténer les colonnes binaires avec le DataFrame original\n",
    "data = pd.concat([data, region_dummies], axis=1)\n",
    "data = data.drop(['region'], axis=1)\n",
    "\n",
    "# Vérification des informations manquantes et des doublons\n",
    "missing_data = data.isnull().sum()\n",
    "duplicates = data.duplicated().sum()\n",
    "data = data.drop_duplicates()\n",
    "\n",
    "\n",
    "\n",
    "\n",
    "# Afficher le DataFrame avec les nouvelles colonnes binaires\n",
    "print(data.head())\n"
   ]
  },
  {
   "cell_type": "code",
   "execution_count": null,
   "metadata": {},
   "outputs": [],
   "source": []
  }
 ],
 "metadata": {
  "kernelspec": {
   "display_name": "Python 3",
   "language": "python",
   "name": "python3"
  },
  "language_info": {
   "codemirror_mode": {
    "name": "ipython",
    "version": 3
   },
   "file_extension": ".py",
   "mimetype": "text/x-python",
   "name": "python",
   "nbconvert_exporter": "python",
   "pygments_lexer": "ipython3",
   "version": "3.10.12"
  }
 },
 "nbformat": 4,
 "nbformat_minor": 2
}
