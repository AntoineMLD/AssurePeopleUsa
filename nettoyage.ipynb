{
 "cells": [
  {
   "cell_type": "code",
   "execution_count": 4,
   "metadata": {},
   "outputs": [],
   "source": [
    "import pandas as pd\n",
    "import numpy as np\n",
    "import seaborn as sns\n",
    "from scipy import stats\n",
    "import matplotlib.pyplot as plt\n",
    "from sklearn.preprocessing import LabelEncoder\n",
    "\n",
    "# Chemin d'accès au fichier de données\n",
    "file_path = 'data_original.csv'\n",
    "\n",
    "# Réimporter le fichier CSV original pour recommencer à partir de zéro\n",
    "data = pd.read_csv(file_path)\n",
    "\n",
    "# Vérification des données manquantes et des doublons dans le DataFrame\n",
    "missing_data = data.isnull().sum()  # Compte le nombre de valeurs manquantes par colonne\n",
    "duplicates = data.duplicated().sum()  # Compte le nombre de lignes dupliquées\n",
    "data = data.drop_duplicates()  # Supprime les lignes dupliquées\n",
    "\n",
    "\n",
    "\n",
    "data.to_csv('data_cleaned.csv', index=False)"
   ]
  }
 ],
 "metadata": {
  "kernelspec": {
   "display_name": "Python 3",
   "language": "python",
   "name": "python3"
  },
  "language_info": {
   "codemirror_mode": {
    "name": "ipython",
    "version": 3
   },
   "file_extension": ".py",
   "mimetype": "text/x-python",
   "name": "python",
   "nbconvert_exporter": "python",
   "pygments_lexer": "ipython3",
   "version": "3.10.12"
  }
 },
 "nbformat": 4,
 "nbformat_minor": 2
}
